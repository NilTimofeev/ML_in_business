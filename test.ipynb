{
 "cells": [
  {
   "cell_type": "code",
   "execution_count": 1,
   "id": "c8e8ac83",
   "metadata": {},
   "outputs": [],
   "source": [
    "import pandas as pd\n",
    "from sklearn.metrics import roc_auc_score,roc_curve\n",
    "from urllib import request, parse\n",
    "import dill\n",
    "import urllib.request\n",
    "import json   "
   ]
  },
  {
   "cell_type": "code",
   "execution_count": 2,
   "id": "56c0a3dd",
   "metadata": {},
   "outputs": [],
   "source": [
    "X_test = pd.read_csv('data\\X_test.csv')"
   ]
  },
  {
   "cell_type": "code",
   "execution_count": 3,
   "id": "d56cb456",
   "metadata": {},
   "outputs": [],
   "source": [
    "def get_prediction(x):\n",
    "    \n",
    "    gender, married, dependents, education, self_employed, applicant_income, coapplicant_income, loan_amount, \\\n",
    "    loan_amount_term, credit_history, property_area = x\n",
    "    \n",
    "    body = {'Gender': gender,\n",
    "            'Married': married,\n",
    "            'Dependents': dependents,\n",
    "            'Education': education,\n",
    "            'Self_Employed': self_employed,\n",
    "            'ApplicantIncome': applicant_income,\n",
    "            'CoapplicantIncome': coapplicant_income,\n",
    "            'LoanAmount': loan_amount,\n",
    "            'Loan_Amount_Term': loan_amount_term,\n",
    "            'Credit_History': credit_history,\n",
    "            'Property_Area': property_area}\n",
    "\n",
    "    myurl = \"http://127.0.0.1:5000/predict\"\n",
    "    req = urllib.request.Request(myurl)\n",
    "    req.add_header('Content-Type', 'application/json; charset=utf-8')\n",
    "    jsondata = json.dumps(body)\n",
    "    jsondataasbytes = jsondata.encode('utf-8')   # needs to be bytes\n",
    "    req.add_header('Content-Length', len(jsondataasbytes))\n",
    "    response = urllib.request.urlopen(req, jsondataasbytes)\n",
    "    return json.loads(response.read())['predictions']"
   ]
  },
  {
   "cell_type": "code",
   "execution_count": 4,
   "id": "0f81eb4b",
   "metadata": {},
   "outputs": [
    {
     "name": "stdout",
     "output_type": "stream",
     "text": [
      "Wall time: 4.68 s\n"
     ]
    }
   ],
   "source": [
    "%%time\n",
    "predictions = X_test.apply(lambda x: get_prediction(x), 1)"
   ]
  },
  {
   "cell_type": "code",
   "execution_count": 5,
   "id": "cb7608bc",
   "metadata": {},
   "outputs": [
    {
     "data": {
      "text/plain": [
       "0    0.609550\n",
       "1    0.790143\n",
       "2    0.914499\n",
       "3    0.938384\n",
       "4    0.325582\n",
       "5    0.981401\n",
       "6    0.803805\n",
       "dtype: float64"
      ]
     },
     "execution_count": 5,
     "metadata": {},
     "output_type": "execute_result"
    }
   ],
   "source": [
    "predictions[:7]"
   ]
  },
  {
   "cell_type": "code",
   "execution_count": 6,
   "id": "02457f0f",
   "metadata": {},
   "outputs": [
    {
     "data": {
      "text/plain": [
       "0.9701393458454286"
      ]
     },
     "execution_count": 6,
     "metadata": {},
     "output_type": "execute_result"
    }
   ],
   "source": [
    "prediction = get_prediction((\"\", \"\", \"\", \"\", \"\", \"\", \"\", \"\", \"\", \"\", \"\"))\n",
    "prediction"
   ]
  }
 ],
 "metadata": {
  "kernelspec": {
   "display_name": "Python 3 (ipykernel)",
   "language": "python",
   "name": "python3"
  },
  "language_info": {
   "codemirror_mode": {
    "name": "ipython",
    "version": 3
   },
   "file_extension": ".py",
   "mimetype": "text/x-python",
   "name": "python",
   "nbconvert_exporter": "python",
   "pygments_lexer": "ipython3",
   "version": "3.9.7"
  }
 },
 "nbformat": 4,
 "nbformat_minor": 5
}
